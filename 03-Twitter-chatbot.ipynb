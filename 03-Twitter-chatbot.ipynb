{
 "cells": [
  {
   "cell_type": "markdown",
   "metadata": {},
   "source": [
    "# Demonstrate Seq2Seq Wrapper with twitter chat log"
   ]
  },
  {
   "cell_type": "code",
   "execution_count": 1,
   "metadata": {},
   "outputs": [],
   "source": [
    "import tensorflow as tf\n",
    "import numpy as np\n",
    "\n",
    "# preprocessed data\n",
    "from datasets.twitter import data\n",
    "import data_utils"
   ]
  },
  {
   "cell_type": "code",
   "execution_count": 2,
   "metadata": {},
   "outputs": [],
   "source": [
    "# load data from pickle and npy files\n",
    "metadata, idx_q, idx_a = data.load_data(PATH='datasets/twitter/')\n",
    "(trainX, trainY), (testX, testY), (validX, validY) = data_utils.split_dataset(idx_q, idx_a)"
   ]
  },
  {
   "cell_type": "code",
   "execution_count": 3,
   "metadata": {},
   "outputs": [],
   "source": [
    "# parameters \n",
    "xseq_len = trainX.shape[-1]\n",
    "yseq_len = trainY.shape[-1]\n",
    "batch_size = 16\n",
    "xvocab_size = len(metadata['idx2w'])  \n",
    "yvocab_size = xvocab_size\n",
    "emb_dim = 1024"
   ]
  },
  {
   "cell_type": "code",
   "execution_count": 6,
   "metadata": {},
   "outputs": [],
   "source": [
    "import seq2seq_wrapper"
   ]
  },
  {
   "cell_type": "code",
   "execution_count": 7,
   "metadata": {},
   "outputs": [
    {
     "data": {
      "text/plain": [
       "<module 'seq2seq_wrapper' from '/Users/nehapande/practical_seq2seq/seq2seq_wrapper.py'>"
      ]
     },
     "execution_count": 7,
     "metadata": {},
     "output_type": "execute_result"
    }
   ],
   "source": [
    "import importlib\n",
    "importlib.reload(seq2seq_wrapper)"
   ]
  },
  {
   "cell_type": "code",
   "execution_count": 8,
   "metadata": {},
   "outputs": [
    {
     "name": "stdout",
     "output_type": "stream",
     "text": [
      "<log> Building Graph </log>"
     ]
    }
   ],
   "source": [
    "model = seq2seq_wrapper.Seq2Seq(xseq_len=xseq_len,\n",
    "                               yseq_len=yseq_len,\n",
    "                               xvocab_size=xvocab_size,\n",
    "                               yvocab_size=yvocab_size,\n",
    "                               ckpt_path='ckpt/twitter/',\n",
    "                               emb_dim=emb_dim,\n",
    "                               num_layers=3\n",
    "                               )"
   ]
  },
  {
   "cell_type": "code",
   "execution_count": 9,
   "metadata": {},
   "outputs": [],
   "source": [
    "val_batch_gen = data_utils.rand_batch_gen(validX, validY, 256)\n",
    "test_batch_gen = data_utils.rand_batch_gen(testX, testY, 256)\n",
    "train_batch_gen = data_utils.rand_batch_gen(trainX, trainY, batch_size)"
   ]
  },
  {
   "cell_type": "code",
   "execution_count": 15,
   "metadata": {},
   "outputs": [
    {
     "name": "stdout",
     "output_type": "stream",
     "text": [
      "\n",
      "<log> Training started </log>\n",
      "Interrupted by user at iteration 21\n"
     ]
    }
   ],
   "source": [
    "sess = model.train(train_batch_gen, val_batch_gen,sess=sess)"
   ]
  },
  {
   "cell_type": "code",
   "execution_count": 10,
   "metadata": {},
   "outputs": [
    {
     "name": "stdout",
     "output_type": "stream",
     "text": [
      "<tensorflow.python.client.session.Session object at 0x11aa21f98>\n"
     ]
    }
   ],
   "source": [
    "sess = model.restore_last_session()\n",
    "print(sess)"
   ]
  },
  {
   "cell_type": "code",
   "execution_count": 11,
   "metadata": {},
   "outputs": [],
   "source": [
    "input_ = test_batch_gen.__next__()[0]\n",
    "output = model.predict(sess, input_)\n",
    "#print(output.shape)"
   ]
  },
  {
   "cell_type": "code",
   "execution_count": 34,
   "metadata": {},
   "outputs": [
    {
     "data": {
      "text/plain": [
       "array([[1, 1, 1, ..., 0, 0, 0],\n",
       "       [1, 1, 1, ..., 0, 0, 0],\n",
       "       [4, 1, 1, ..., 0, 0, 0],\n",
       "       ..., \n",
       "       [4, 1, 1, ..., 0, 0, 0],\n",
       "       [4, 1, 1, ..., 0, 0, 0],\n",
       "       [1, 1, 1, ..., 0, 0, 0]])"
      ]
     },
     "execution_count": 34,
     "metadata": {},
     "output_type": "execute_result"
    }
   ],
   "source": [
    "output"
   ]
  },
  {
   "cell_type": "code",
   "execution_count": 13,
   "metadata": {},
   "outputs": [
    {
     "name": "stdout",
     "output_type": "stream",
     "text": [
      "['i', 'unk', 'unk']\n",
      "['unk', 'unk', 'unk', 'unk']\n",
      "['unk', 'unk', 'unk', 'unk', 'unk', 'unk', 'unk']\n",
      "['i', 'unk', 'unk']\n",
      "['i', 'unk', 'unk']\n",
      "['i', 'unk', 'unk']\n",
      "['unk', 'unk', 'unk', 'unk']\n",
      "['i', 'unk', 'unk']\n",
      "['i', 'unk', 'unk']\n",
      "['i', 'unk', 'unk']\n",
      "['i', 'unk', 'unk']\n",
      "['unk', 'unk', 'unk', 'unk']\n",
      "['unk', 'unk', 'unk']\n",
      "['i', 'unk', 'unk', 'unk']\n",
      "['unk', 'unk', 'unk', 'unk']\n",
      "['unk', 'unk', 'unk', 'unk']\n",
      "['i', 'unk', 'unk']\n",
      "['i', 'unk', 'unk']\n",
      "['unk', 'unk', 'unk', 'unk']\n",
      "['i', 'unk', 'unk']\n",
      "['unk', 'unk', 'unk', 'unk']\n",
      "['unk', 'unk', 'unk', 'unk']\n",
      "['i', 'unk', 'unk']\n",
      "['i', 'unk', 'unk']\n",
      "['unk', 'unk', 'unk', 'unk']\n",
      "['i', 'unk', 'unk']\n",
      "['unk', 'unk', 'unk', 'unk', 'unk', 'unk', 'unk', 'unk', 'unk', 'unk']\n",
      "['i', 'unk', 'unk']\n",
      "['unk', 'unk', 'unk', 'unk']\n",
      "['unk', 'unk', 'unk', 'unk', 'unk', 'unk', 'unk', 'unk', 'unk', 'unk', 'unk']\n",
      "['unk', 'unk', 'unk', 'unk', 'unk', 'unk', 'unk', 'unk', 'unk', 'unk', 'unk', 'unk']\n",
      "['unk', 'unk', 'unk', 'unk']\n",
      "['i', 'unk', 'unk']\n",
      "['unk', 'unk', 'unk', 'unk']\n",
      "['i', 'unk', 'unk']\n",
      "['i', 'unk', 'unk']\n",
      "['unk', 'unk', 'unk', 'unk']\n",
      "['i', 'unk', 'unk']\n",
      "['unk', 'unk', 'unk', 'unk']\n",
      "['i', 'unk', 'unk']\n",
      "['unk', 'unk', 'unk', 'unk']\n",
      "['unk', 'unk', 'unk', 'unk']\n",
      "['unk', 'unk', 'unk', 'unk', 'unk', 'unk', 'unk', 'unk', 'unk', 'unk']\n",
      "['i', 'unk', 'unk']\n",
      "['i', 'unk', 'unk']\n",
      "['unk', 'unk', 'unk', 'unk', 'unk', 'unk', 'unk', 'unk']\n",
      "['unk', 'unk', 'unk', 'unk', 'unk', 'unk', 'unk']\n",
      "['i', 'unk', 'unk']\n",
      "['i', 'unk', 'unk']\n",
      "['unk', 'unk', 'unk', 'unk', 'unk', 'unk', 'unk', 'unk']\n",
      "['unk', 'unk', 'unk', 'unk']\n",
      "['unk', 'unk', 'unk', 'unk']\n",
      "['i', 'unk', 'unk']\n",
      "['unk', 'unk', 'unk', 'unk']\n",
      "['unk', 'unk', 'unk', 'unk', 'unk']\n",
      "['i', 'unk', 'unk']\n",
      "['i', 'unk', 'unk']\n",
      "['unk', 'unk', 'unk', 'unk']\n",
      "['i', 'unk', 'unk']\n",
      "['unk', 'unk', 'unk', 'unk']\n",
      "['i', 'unk', 'unk']\n",
      "['i', 'unk', 'unk']\n",
      "['i', 'unk', 'unk']\n",
      "['unk', 'unk', 'unk', 'unk', 'unk']\n",
      "['i', 'unk', 'unk']\n",
      "['i', 'unk', 'unk']\n",
      "['unk', 'unk', 'unk', 'unk']\n",
      "['unk', 'unk', 'unk', 'unk']\n",
      "['i', 'unk', 'unk']\n",
      "['i', 'unk', 'unk']\n",
      "['i', 'unk', 'unk', 'unk']\n",
      "['i', 'unk', 'unk']\n",
      "['unk', 'unk', 'unk', 'unk']\n",
      "['unk', 'unk', 'unk']\n",
      "['i', 'unk', 'unk']\n",
      "['i', 'unk', 'unk']\n",
      "['i', 'unk', 'unk']\n",
      "['i', 'unk', 'unk']\n",
      "['unk', 'unk', 'unk', 'unk']\n",
      "['unk', 'unk', 'unk', 'unk']\n",
      "['unk', 'unk', 'unk', 'unk']\n",
      "['i', 'unk', 'unk']\n",
      "['i', 'unk', 'unk']\n",
      "['i', 'unk', 'unk']\n",
      "['unk', 'unk', 'unk', 'unk', 'unk']\n",
      "['unk', 'unk', 'unk', 'unk', 'unk', 'unk', 'unk', 'unk']\n",
      "['i', 'unk', 'unk']\n",
      "['i', 'unk', 'unk']\n",
      "['i', 'unk', 'unk']\n",
      "['i', 'unk', 'unk']\n",
      "['i', 'unk', 'unk']\n",
      "['unk', 'unk', 'unk', 'unk', 'unk', 'unk', 'unk', 'unk', 'unk', 'unk']\n",
      "['unk', 'unk', 'unk', 'unk', 'unk', 'unk', 'unk', 'unk', 'unk', 'unk']\n",
      "['i', 'unk', 'unk']\n",
      "['unk', 'unk', 'unk', 'unk', 'unk', 'unk', 'unk', 'unk', 'unk', 'unk', 'unk', 'unk']\n",
      "['i', 'unk', 'unk']\n",
      "['unk', 'unk', 'unk', 'unk', 'unk']\n",
      "['i', 'unk', 'unk']\n",
      "['i', 'unk', 'unk', 'unk']\n",
      "['i', 'unk', 'unk']\n",
      "['i', 'unk', 'unk']\n",
      "['unk', 'unk', 'unk', 'unk']\n",
      "['unk', 'unk', 'unk', 'unk']\n",
      "['unk', 'unk', 'unk', 'unk', 'unk', 'unk', 'unk', 'unk', 'unk', 'unk', 'unk']\n",
      "['unk', 'unk', 'unk', 'unk', 'unk', 'unk', 'unk', 'unk']\n",
      "['unk', 'unk', 'unk', 'unk', 'unk', 'unk', 'unk', 'unk', 'unk', 'unk', 'unk']\n",
      "['unk', 'unk', 'unk', 'unk', 'unk', 'unk', 'unk', 'unk', 'unk', 'unk', 'unk']\n",
      "['i', 'unk', 'unk']\n",
      "['unk', 'unk', 'unk']\n",
      "['i', 'unk', 'unk']\n",
      "['i', 'unk', 'unk']\n",
      "['i', 'unk', 'unk']\n",
      "['i', 'unk', 'unk']\n",
      "['i', 'unk', 'unk']\n",
      "['unk', 'unk', 'unk', 'unk', 'unk']\n",
      "['i', 'unk', 'unk', 'unk']\n",
      "['i', 'unk', 'unk']\n",
      "['unk', 'unk', 'unk', 'unk', 'unk', 'unk', 'unk', 'unk', 'unk', 'unk', 'unk', 'unk']\n",
      "['unk', 'unk', 'unk', 'unk', 'unk']\n",
      "['unk', 'unk', 'unk', 'unk', 'unk', 'unk', 'unk', 'unk', 'unk', 'unk', 'unk']\n",
      "['unk', 'unk', 'unk', 'unk']\n",
      "['unk', 'unk', 'unk', 'unk', 'unk']\n",
      "['i', 'unk', 'unk']\n",
      "['unk', 'unk', 'unk', 'unk', 'unk', 'unk', 'unk', 'unk', 'unk', 'unk', 'unk']\n",
      "['i', 'unk', 'unk']\n",
      "['unk', 'unk', 'unk', 'unk', 'unk', 'unk', 'unk', 'unk', 'unk', 'unk']\n",
      "['unk', 'unk', 'unk', 'unk']\n",
      "['unk', 'unk', 'unk', 'unk', 'unk', 'unk', 'unk', 'unk', 'unk', 'unk', 'unk']\n",
      "['i', 'unk', 'unk']\n",
      "['unk', 'unk', 'unk', 'unk']\n",
      "['unk', 'unk', 'unk', 'unk', 'unk', 'unk', 'unk', 'unk', 'unk', 'unk', 'unk', 'unk']\n",
      "['i', 'unk', 'unk']\n",
      "['unk', 'unk', 'unk', 'unk']\n",
      "['unk', 'unk', 'unk', 'unk']\n",
      "['unk', 'unk', 'unk']\n",
      "['i', 'unk', 'unk']\n",
      "['unk', 'unk', 'unk', 'unk', 'unk', 'unk', 'unk', 'unk']\n",
      "['i', 'unk', 'unk']\n",
      "['unk', 'unk', 'unk', 'unk']\n",
      "['i', 'unk', 'unk']\n",
      "['unk', 'unk', 'unk', 'unk', 'unk']\n",
      "['unk', 'unk', 'unk', 'unk']\n",
      "['i', 'unk', 'unk']\n",
      "['unk', 'unk', 'unk', 'unk']\n",
      "['i', 'unk', 'unk']\n",
      "['unk', 'unk', 'unk', 'unk']\n",
      "['unk', 'unk', 'unk', 'unk', 'unk']\n",
      "['i', 'unk', 'unk']\n",
      "['i', 'unk', 'unk', 'unk']\n",
      "['unk', 'unk', 'unk', 'unk']\n",
      "['i', 'unk', 'unk']\n",
      "['unk', 'unk', 'unk', 'unk']\n",
      "['unk', 'unk', 'unk', 'unk', 'unk', 'unk', 'unk', 'unk']\n",
      "['i', 'unk', 'unk']\n",
      "['i', 'unk', 'unk']\n",
      "['unk', 'unk', 'unk', 'unk', 'unk', 'unk', 'unk', 'unk', 'unk', 'unk', 'unk', 'unk']\n",
      "['unk', 'unk', 'unk', 'unk', 'unk']\n",
      "['unk', 'unk', 'unk', 'unk', 'unk', 'unk', 'unk', 'unk', 'unk', 'unk', 'unk']\n",
      "['unk', 'unk', 'unk', 'unk']\n",
      "['i', 'unk', 'unk']\n",
      "['i', 'unk', 'unk']\n",
      "['unk', 'unk', 'unk']\n",
      "['unk', 'unk', 'unk', 'unk']\n",
      "['unk', 'unk', 'unk', 'unk', 'unk', 'unk']\n",
      "['unk', 'unk', 'unk']\n",
      "['unk', 'unk', 'unk', 'unk', 'unk', 'unk', 'unk', 'unk', 'unk', 'unk', 'unk', 'unk']\n",
      "['unk', 'unk', 'unk', 'unk', 'unk']\n",
      "['unk', 'unk', 'unk']\n",
      "['i', 'unk', 'unk']\n",
      "['unk', 'unk', 'unk', 'unk']\n",
      "['i', 'unk', 'unk']\n",
      "['i', 'unk', 'unk']\n",
      "['i', 'unk', 'unk']\n",
      "['i', 'unk', 'unk']\n",
      "['unk', 'unk', 'unk', 'unk']\n",
      "['unk', 'unk', 'unk', 'unk']\n",
      "['unk', 'unk', 'unk', 'unk']\n",
      "['i', 'unk', 'unk']\n",
      "['unk', 'unk', 'unk', 'unk']\n",
      "['unk', 'unk', 'unk', 'unk', 'unk', 'unk', 'unk', 'unk', 'unk', 'unk', 'unk']\n",
      "['i', 'unk', 'unk']\n",
      "['i', 'unk', 'unk']\n",
      "['i', 'unk', 'unk']\n",
      "['i', 'unk', 'unk']\n",
      "['unk', 'unk', 'unk', 'unk']\n",
      "['i', 'unk', 'unk']\n",
      "['i', 'unk', 'unk', 'unk']\n",
      "['i', 'unk', 'unk']\n",
      "['i', 'unk', 'unk']\n",
      "['unk', 'unk', 'unk', 'unk', 'unk', 'unk', 'unk', 'unk', 'unk', 'unk']\n",
      "['unk', 'unk', 'unk', 'unk']\n",
      "['i', 'unk', 'unk']\n",
      "['i', 'unk', 'unk']\n",
      "['i', 'unk', 'unk']\n",
      "['i', 'unk', 'unk']\n",
      "['i', 'unk', 'unk']\n",
      "['unk', 'unk', 'unk', 'unk', 'unk', 'unk', 'unk', 'unk', 'unk', 'unk', 'unk']\n",
      "['unk', 'unk', 'unk', 'unk']\n",
      "['i', 'unk', 'unk']\n",
      "['i', 'unk', 'unk', 'unk']\n",
      "['i', 'unk', 'unk']\n",
      "['i', 'unk', 'unk']\n",
      "['i', 'unk', 'unk']\n",
      "['i', 'unk', 'unk']\n",
      "['i', 'unk', 'unk']\n",
      "['unk', 'unk', 'unk', 'unk']\n",
      "['unk', 'unk', 'unk', 'unk', 'unk', 'unk', 'unk', 'unk', 'unk']\n",
      "['i', 'unk', 'unk']\n",
      "['i', 'unk', 'unk']\n",
      "['i', 'unk', 'unk']\n",
      "['unk', 'unk', 'unk', 'unk']\n",
      "['unk', 'unk', 'unk', 'unk']\n",
      "['i', 'unk', 'unk']\n",
      "['i', 'unk', 'unk']\n",
      "['i', 'unk', 'unk']\n",
      "['i', 'unk', 'unk']\n",
      "['i', 'unk', 'unk']\n",
      "['i', 'unk', 'unk']\n",
      "['unk', 'unk', 'unk', 'unk']\n",
      "['i', 'unk', 'unk']\n",
      "['i', 'unk', 'unk', 'unk']\n",
      "['i', 'unk', 'unk', 'unk']\n",
      "['i', 'unk', 'unk']\n",
      "['i', 'unk', 'unk']\n",
      "['unk', 'unk', 'unk', 'unk', 'unk']\n",
      "['unk', 'unk', 'unk', 'unk', 'unk', 'unk', 'unk', 'unk']\n",
      "['unk', 'unk', 'unk', 'unk']\n",
      "['unk', 'unk', 'unk', 'unk']\n",
      "['unk', 'unk', 'unk', 'unk']\n",
      "['unk', 'unk', 'unk', 'unk', 'unk', 'unk', 'unk', 'unk', 'unk', 'unk', 'unk']\n",
      "['i', 'unk', 'unk']\n",
      "['unk', 'unk', 'unk']\n",
      "['i', 'unk', 'unk']\n",
      "['unk', 'unk', 'unk', 'unk', 'unk', 'unk', 'unk', 'unk']\n",
      "['unk', 'unk', 'unk', 'unk', 'unk', 'unk', 'unk']\n",
      "['unk', 'unk', 'unk', 'unk', 'unk', 'unk', 'unk', 'unk', 'unk', 'unk', 'unk']\n",
      "['unk', 'unk', 'unk', 'unk', 'unk', 'unk', 'unk', 'unk', 'unk']\n",
      "['i', 'unk', 'unk']\n",
      "['i', 'unk', 'unk']\n",
      "['unk', 'unk', 'unk', 'unk']\n",
      "['i', 'unk', 'unk']\n",
      "['unk', 'unk', 'unk', 'unk', 'unk', 'unk', 'unk', 'unk', 'unk', 'unk']\n",
      "['i', 'unk', 'unk']\n",
      "['unk', 'unk', 'unk', 'unk']\n",
      "['unk', 'unk', 'unk', 'unk']\n",
      "['unk', 'unk', 'unk', 'unk']\n",
      "['i', 'unk', 'unk']\n",
      "['unk', 'unk', 'unk', 'unk']\n",
      "['i', 'unk', 'unk']\n",
      "['unk', 'unk', 'unk', 'unk', 'unk']\n",
      "['i', 'unk', 'unk']\n",
      "['i', 'unk', 'unk']\n",
      "['unk', 'unk', 'unk', 'unk']\n",
      "['i', 'unk', 'unk']\n",
      "['i', 'unk', 'unk']\n",
      "['i', 'unk', 'unk']\n"
     ]
    }
   ],
   "source": [
    "replies = []\n",
    "for ii, oi in zip(input_.T, output):\n",
    "    \n",
    "    q = data_utils.decode(sequence=ii, lookup=metadata['idx2w'], separator=' ')\n",
    "    #print(q)\n",
    "    decoded = data_utils.decode(sequence=oi, lookup=metadata['idx2w'], separator=' ').split(' ')\n",
    "    #print('q : [{0}]; a : [{1}]'.format(q, ' '.join(decoded)))\n",
    "    print(decoded)\n",
    "    \n",
    "    #if decoded.count('unk') == 0:\n",
    "    #    if decoded not in replies:\n",
    "    #        print('q : [{0}]; a : [{1}]'.format(q, ' '.join(decoded)))\n",
    "    #        replies.append(decoded)"
   ]
  },
  {
   "cell_type": "code",
   "execution_count": 3,
   "metadata": {},
   "outputs": [],
   "source": [
    "replies = \"go see them\";"
   ]
  },
  {
   "cell_type": "code",
   "execution_count": 15,
   "metadata": {},
   "outputs": [
    {
     "name": "stdout",
     "output_type": "stream",
     "text": [
      "[4 1 1 0 0 0 0 0 0 0 0 0 0 0 0 0 0 0 0 0]\n"
     ]
    }
   ],
   "source": [
    "#print(ii)\n",
    "print(oi)\n",
    "#print(q)"
   ]
  },
  {
   "cell_type": "code",
   "execution_count": 16,
   "metadata": {},
   "outputs": [
    {
     "name": "stdout",
     "output_type": "stream",
     "text": [
      "['i', 'unk', 'unk']\n"
     ]
    }
   ],
   "source": [
    "print(decoded)"
   ]
  },
  {
   "cell_type": "code",
   "execution_count": null,
   "metadata": {
    "collapsed": true
   },
   "outputs": [],
   "source": []
  },
  {
   "cell_type": "code",
   "execution_count": null,
   "metadata": {
    "collapsed": true
   },
   "outputs": [],
   "source": []
  },
  {
   "cell_type": "code",
   "execution_count": null,
   "metadata": {
    "collapsed": true
   },
   "outputs": [],
   "source": []
  }
 ],
 "metadata": {
  "kernelspec": {
   "display_name": "Python 3",
   "language": "python",
   "name": "python3"
  },
  "language_info": {
   "codemirror_mode": {
    "name": "ipython",
    "version": 3
   },
   "file_extension": ".py",
   "mimetype": "text/x-python",
   "name": "python",
   "nbconvert_exporter": "python",
   "pygments_lexer": "ipython3",
   "version": "3.6.2"
  }
 },
 "nbformat": 4,
 "nbformat_minor": 1
}
